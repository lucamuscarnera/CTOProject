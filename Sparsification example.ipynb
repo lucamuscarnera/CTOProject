{
 "cells": [
  {
   "cell_type": "code",
   "execution_count": 1,
   "id": "1c95aa20",
   "metadata": {},
   "outputs": [],
   "source": [
    "import jax.numpy as jnp\n",
    "from jax import grad, jit, vmap\n",
    "from jax import random"
   ]
  },
  {
   "cell_type": "markdown",
   "id": "fdc4cbb2",
   "metadata": {},
   "source": [
    "## Network topology and initialization functions"
   ]
  },
  {
   "cell_type": "code",
   "execution_count": 2,
   "id": "14977f13",
   "metadata": {},
   "outputs": [],
   "source": [
    "# A helper function to randomly initialize weights and biases\n",
    "# for a dense neural network layer\n",
    "\n",
    "def random_layer_params(m, n, key, scale=1e-2):\n",
    "  w_key, b_key = random.split(key)\n",
    "  return scale * random.normal(w_key, (n, m)), scale * random.normal(b_key, (n,))\n",
    "\n",
    "# Initialize all layers for a fully-connected neural network with sizes \"sizes\"\n",
    "def init_network_params(sizes, key):\n",
    "  keys = random.split(key, len(sizes))\n",
    "  return [random_layer_params(m, n, k) for m, n, k in zip(sizes[:-1], sizes[1:], keys)]"
   ]
  },
  {
   "cell_type": "markdown",
   "id": "9aed5f72",
   "metadata": {},
   "source": [
    "# Predictor"
   ]
  },
  {
   "cell_type": "code",
   "execution_count": 3,
   "id": "00543e14",
   "metadata": {},
   "outputs": [],
   "source": [
    "from jax.scipy.special import logsumexp\n",
    "\n",
    "def relu(x):\n",
    "    return jnp.maximum(0, x)\n",
    "\n",
    "def predict(params, image):\n",
    "    # per-example predictions\n",
    "    activations = image\n",
    "    for w, b in params[:-1]:\n",
    "        outputs = jnp.dot(w, activations) + b\n",
    "        activations = relu(outputs)\n",
    "\n",
    "    final_w, final_b = params[-1]\n",
    "    logits = jnp.dot(final_w, activations) + final_b\n",
    "    return logits - logsumexp(logits)"
   ]
  },
  {
   "cell_type": "code",
   "execution_count": 4,
   "id": "ea20015c",
   "metadata": {},
   "outputs": [],
   "source": [
    "# Make a batched version of the `predict` function\n",
    "batched_predict = vmap(predict, in_axes=(None, 0))"
   ]
  },
  {
   "cell_type": "markdown",
   "id": "3369aea9",
   "metadata": {},
   "source": [
    "# Utilities"
   ]
  },
  {
   "cell_type": "code",
   "execution_count": 5,
   "id": "8b543eda",
   "metadata": {},
   "outputs": [],
   "source": [
    "def one_hot(x, k, dtype=jnp.float32):\n",
    "  \"\"\"Create a one-hot encoding of x of size k.\"\"\"\n",
    "  return jnp.array(x[:, None] == jnp.arange(k), dtype)\n",
    "  \n",
    "def accuracy(params, images, targets):\n",
    "  target_class = jnp.argmax(targets, axis=1)\n",
    "  predicted_class = jnp.argmax(batched_predict(params, images), axis=1)\n",
    "  return jnp.mean(predicted_class == target_class)\n",
    "\n",
    "def loss(params, images, targets):\n",
    "  preds = batched_predict(params, images)\n",
    "  return -jnp.mean(preds * targets)\n",
    "\n",
    "@jit\n",
    "def update(params, x, y):\n",
    "  grads = grad(loss)(params, x, y)\n",
    "  return [(w - step_size * dw, b - step_size * db)\n",
    "          for (w, b), (dw, db) in zip(params, grads)]"
   ]
  },
  {
   "cell_type": "markdown",
   "id": "1633df55",
   "metadata": {},
   "source": [
    "# Data and Co."
   ]
  },
  {
   "cell_type": "code",
   "execution_count": 6,
   "id": "b7aefe22",
   "metadata": {},
   "outputs": [
    {
     "data": {
      "image/png": "[encoded data removed]",
      "text/plain": [
       "<Figure size 640x480 with 1 Axes>"
      ]
     },
     "metadata": {},
     "output_type": "display_data"
    }
   ],
   "source": [
    "from PIL import Image\n",
    "import matplotlib.pyplot as plt\n",
    "import tensorflow.keras.datasets as tfds\n",
    "import numpy as np\n",
    "onehot = lambda y : np.concatenate([\n",
    "        (y == cifra)[:,None] * 1.\n",
    "    for cifra in np.arange(10)\n",
    "], axis = 1)\n",
    "\n",
    "(x_train, y_train), (x_test, y_test) = tfds.mnist.load_data()\n",
    "assert x_train.shape == (60000, 28, 28)\n",
    "assert x_test.shape == (10000, 28, 28)\n",
    "assert y_train.shape == (60000,)\n",
    "assert y_test.shape == (10000,)\n",
    "\n",
    "x_train = np.array([ np.array(Image.fromarray(x).resize((14,14))) for x in x_train])\n",
    "x_test  = np.array([ np.array(Image.fromarray(x).resize((14,14))) for x in x_test])\n",
    "\n",
    "plt.imshow(x_train[0])\n",
    "\n",
    "x_train = x_train.reshape(-1,14*14)\n",
    "x_test  = x_test.reshape(-1,14*14)\n",
    "y_test  = onehot(y_test)\n",
    "y_train = onehot(y_train)\n",
    "\n"
   ]
  },
  {
   "cell_type": "markdown",
   "id": "7fe7ce2a",
   "metadata": {},
   "source": [
    "# Training"
   ]
  },
  {
   "cell_type": "code",
   "execution_count": 7,
   "id": "ccbd63cb",
   "metadata": {},
   "outputs": [],
   "source": [
    "layer_sizes = [14*14, 10, 10, 10]\n",
    "step_size = 0.01\n",
    "batch_epochs = 200\n",
    "num_epochs = batch_epochs * 10\n",
    "batch_size = 128\n",
    "n_targets = 10\n",
    "params = init_network_params(layer_sizes, random.PRNGKey(0))"
   ]
  },
  {
   "cell_type": "code",
   "execution_count": null,
   "id": "df082354",
   "metadata": {},
   "outputs": [
    {
     "name": "stdout",
     "output_type": "stream",
     "text": [
      "Epoch 0 in 1.14 sec\n",
      "Training set accuracy 0.10301666706800461\n",
      "Test set accuracy 0.10589999705553055\n",
      "Epoch 200 in 0.00 sec\n",
      "Training set accuracy 0.10700000077486038\n",
      "Test set accuracy 0.11109999567270279\n",
      "Epoch 400 in 0.00 sec\n",
      "Training set accuracy 0.1307833343744278\n",
      "Test set accuracy 0.1322999894618988\n",
      "Epoch 600 in 0.00 sec\n",
      "Training set accuracy 0.1960500031709671\n",
      "Test set accuracy 0.19339999556541443\n",
      "Epoch 800 in 0.00 sec\n",
      "Training set accuracy 0.21043333411216736\n",
      "Test set accuracy 0.2037999927997589\n",
      "Epoch 1000 in 0.00 sec\n",
      "Training set accuracy 0.5527333617210388\n",
      "Test set accuracy 0.5541999936103821\n",
      "Epoch 1200 in 0.00 sec\n",
      "Training set accuracy 0.6970666646957397\n",
      "Test set accuracy 0.7119999527931213\n"
     ]
    }
   ],
   "source": [
    "import time\n",
    "params = init_network_params(layer_sizes, random.PRNGKey(0))\n",
    "for epoch in range(num_epochs):\n",
    "    start_time = time.time()\n",
    "    for i in range(10):\n",
    "        batch = np.random.choice(len(x_train), size = 500)\n",
    "        x,y = x_train[batch],y_train[batch]\n",
    "\n",
    "    params = update(params, x, y)\n",
    "    epoch_time = time.time() - start_time\n",
    "\n",
    "    train_acc = accuracy(params, x_train, y_train)\n",
    "    test_acc = accuracy(params,  x_test, y_test)\n",
    "    if epoch % batch_epochs == 0:\n",
    "        print(\"Epoch {} in {:0.2f} sec\".format(epoch, epoch_time))\n",
    "        print(\"Training set accuracy {}\".format(train_acc))\n",
    "        print(\"Test set accuracy {}\".format(test_acc))"
   ]
  },
  {
   "cell_type": "markdown",
   "id": "9d67db87",
   "metadata": {},
   "source": [
    "# Sparsification"
   ]
  },
  {
   "cell_type": "markdown",
   "id": "74de87e6",
   "metadata": {},
   "source": [
    "## Definiamo la distanza $d$ su $\\mathcal P$\n",
    "<center> $d(\\theta,\\theta') = || f_{\\theta} - f_{\\theta'} ||_{L^2(\\Omega)}$ </center>"
   ]
  },
  {
   "cell_type": "code",
   "execution_count": 65,
   "id": "35625f83",
   "metadata": {},
   "outputs": [
    {
     "data": {
      "text/plain": [
       "DeviceArray(0.7707645, dtype=float32)"
      ]
     },
     "execution_count": 65,
     "metadata": {},
     "output_type": "execute_result"
    }
   ],
   "source": [
    "import jax\n",
    "def d(params_1, params_2):\n",
    "    omega_sample = np.random.choice(255, size = (10000,14*14))\n",
    "    return jnp.linalg.norm( batched_predict(params_1, omega_sample) - batched_predict(params_2, omega_sample) )\n",
    "d = jax.jit(d)\n",
    "\n",
    "params_perturbed = [ (p[0] + np.random.normal(size = p[0].shape) * .00001 ,p[1]) for p in params]\n",
    "d(params,params_perturbed)"
   ]
  },
  {
   "cell_type": "markdown",
   "id": "ff1f91ac",
   "metadata": {},
   "source": [
    "# LOOP di calcolo"
   ]
  },
  {
   "cell_type": "code",
   "execution_count": 69,
   "id": "22f2df21",
   "metadata": {
    "scrolled": false
   },
   "outputs": [
    {
     "name": "stdout",
     "output_type": "stream",
     "text": [
      "0.8127 2159\n",
      "0.8127 2158\n",
      "0.8127 2157\n",
      "0.8127 2156\n",
      "0.8127 2155\n",
      "0.8127 2154\n",
      "0.8127 2153\n",
      "0.8127 2152\n",
      "0.8127 2151\n",
      "0.8127 2150\n",
      "0.8127 2149\n",
      "0.8127 2148\n",
      "0.8127 2147\n",
      "0.8127 2146\n",
      "0.8127 2145\n",
      "0.8127 2144\n",
      "0.8127 2143\n",
      "0.8127 2142\n",
      "0.8127 2141\n",
      "0.8127 2140\n",
      "0.8127 2139\n",
      "0.8127 2138\n",
      "0.8127 2137\n",
      "0.8127 2136\n",
      "0.8127 2135\n",
      "0.8127 2134\n",
      "0.8127 2133\n",
      "0.8127 2132\n",
      "0.8127 2131\n",
      "0.8127 2130\n",
      "0.8127 2129\n",
      "0.8127 2128\n",
      "0.8127 2127\n",
      "0.8127 2126\n",
      "0.8127 2125\n",
      "0.8127 2124\n",
      "0.8127 2123\n",
      "0.8127 2122\n",
      "0.8127 2121\n",
      "0.8127 2120\n",
      "0.8127 2119\n",
      "0.8127 2118\n",
      "0.8127 2117\n",
      "0.8127 2116\n",
      "0.8127 2115\n",
      "0.8127 2114\n",
      "0.8127 2113\n",
      "0.8127 2112\n",
      "0.8127 2111\n",
      "0.8127 2110\n",
      "0.81259996 2109\n",
      "0.81259996 2108\n",
      "0.81259996 2107\n",
      "0.81259996 2106\n",
      "0.81259996 2105\n",
      "0.81259996 2104\n",
      "0.81259996 2103\n",
      "0.81259996 2102\n",
      "0.81259996 2101\n",
      "0.81259996 2100\n",
      "0.81259996 2099\n",
      "0.81259996 2098\n",
      "0.81259996 2097\n",
      "0.81259996 2096\n",
      "0.81259996 2095\n",
      "0.81259996 2094\n",
      "0.81259996 2093\n",
      "0.81259996 2092\n",
      "0.81259996 2091\n",
      "0.81259996 2090\n",
      "0.81259996 2089\n",
      "0.81259996 2088\n",
      "0.81259996 2087\n",
      "0.81259996 2086\n",
      "0.81259996 2085\n",
      "0.81259996 2084\n",
      "0.81259996 2083\n",
      "0.81259996 2082\n",
      "0.81259996 2081\n",
      "0.81259996 2080\n",
      "0.81259996 2079\n",
      "0.81259996 2078\n",
      "0.81259996 2077\n",
      "0.81259996 2076\n",
      "0.81259996 2075\n",
      "0.8125 2074\n",
      "0.8125 2073\n",
      "0.8125 2072\n",
      "0.8125 2071\n",
      "0.8125 2070\n",
      "0.8125 2069\n",
      "0.8125 2068\n",
      "0.8125 2067\n",
      "0.8125 2066\n",
      "0.8125 2065\n",
      "0.8125 2064\n",
      "0.8125 2063\n",
      "0.8125 2062\n",
      "0.8125 2061\n",
      "0.8125 2060\n"
     ]
    }
   ],
   "source": [
    "# trovo il peso piú piccolo\n",
    "def clone_params(params):\n",
    "    return [  [ np.array(p[0]).copy(),np.array(p[1]).copy()] for p in params]\n",
    "    \n",
    "def prune(params, cmp_params):\n",
    "    minimo = 100.\n",
    "    minimo_idx = 0\n",
    "    minimo_i   = 0\n",
    "    minimo_j   = 0\n",
    "    \n",
    "    for idx,p in enumerate(params):\n",
    "        #print(idx)\n",
    "        for i,row in enumerate(p[0]):\n",
    "            #print(\"\\t%d\" % i , minimo)\n",
    "            for j,el in enumerate(row):\n",
    "                if params[idx][0][i,j] != 0.:\n",
    "                    new_params = clone_params(params)\n",
    "                    new_params[idx][0][i,j] = 0.\n",
    "                    distanza =  d(cmp_params,new_params)\n",
    "                    if(distanza < minimo):\n",
    "                        minimo = distanza\n",
    "                        minimo_idx = idx\n",
    "                        minimo_i   = i\n",
    "                        minimo_j   = j\n",
    "                    if minimo == 0:         # if the minimum becomes zero then the current weight doees not affect distance in P space\n",
    "                        return new_params\n",
    "    new_params = clone_params(params)\n",
    "    new_params[minimo_idx][0][minimo_i,minimo_j] = 0.\n",
    "    return new_params\n",
    "\n",
    "new_params = clone_params(params)\n",
    "for i in range(100):\n",
    "    new_params = prune(new_params, params)\n",
    "    NZ = np.sum([ (p[0] != 0).sum() for p in new_params]) # non zero entries\n",
    "    print(accuracy(new_params,  x_test, y_test) , NZ)"
   ]
  },
  {
   "cell_type": "code",
   "execution_count": 92,
   "id": "fb72ecf2",
   "metadata": {},
   "outputs": [
    {
     "data": {
      "image/png": "[encoded data removed]",
      "text/plain": [
       "<Figure size 300x100 with 2 Axes>"
      ]
     },
     "metadata": {},
     "output_type": "display_data"
    },
    {
     "data": {
      "image/png": "[encoded data removed]",
      "text/plain": [
       "<Figure size 300x100 with 2 Axes>"
      ]
     },
     "metadata": {},
     "output_type": "display_data"
    },
    {
     "data": {
      "image/png": "[encoded data removed]",
      "text/plain": [
       "<Figure size 300x100 with 2 Axes>"
      ]
     },
     "metadata": {},
     "output_type": "display_data"
    }
   ],
   "source": [
    "import matplotlib.pyplot as plt\n",
    "\n",
    "for n,p in zip(new_params,params):\n",
    "    axs = plt.figure(figsize=(3,1)).subplots(1,2)\n",
    "    axs = axs.flatten()\n",
    "    axs[0].set_title(\"sparsified\")\n",
    "    axs[0].imshow(n[0] != 0., vmin = 0.,vmax = 1.,aspect='auto') \n",
    "    axs[1].set_title(\"original\")\n",
    "    axs[1].imshow(p[0] != 0., vmin = 0.,vmax = 1.,aspect='auto')"
   ]
  },
  {
   "cell_type": "code",
   "execution_count": null,
   "id": "5c91d361",
   "metadata": {},
   "outputs": [],
   "source": []
  }
 ],
 "metadata": {
  "kernelspec": {
   "display_name": "Python 3 (ipykernel)",
   "language": "python",
   "name": "python3"
  },
  "language_info": {
   "codemirror_mode": {
    "name": "ipython",
    "version": 3
   },
   "file_extension": ".py",
   "mimetype": "text/x-python",
   "name": "python",
   "nbconvert_exporter": "python",
   "pygments_lexer": "ipython3",
   "version": "3.9.7"
  }
 },
 "nbformat": 4,
 "nbformat_minor": 5
}
