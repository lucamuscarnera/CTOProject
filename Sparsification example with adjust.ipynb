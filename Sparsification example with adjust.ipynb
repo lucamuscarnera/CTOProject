{
 "cells": [
  {
   "cell_type": "code",
   "execution_count": 1,
   "id": "ea0c0092",
   "metadata": {},
   "outputs": [],
   "source": [
    "import jax.numpy as jnp\n",
    "from jax import grad, jit, vmap\n",
    "from jax import random"
   ]
  },
  {
   "cell_type": "markdown",
   "id": "67bfae7a",
   "metadata": {},
   "source": [
    "## Network topology and initialization functions"
   ]
  },
  {
   "cell_type": "code",
   "execution_count": 2,
   "id": "f09e9d2f",
   "metadata": {},
   "outputs": [],
   "source": [
    "# A helper function to randomly initialize weights and biases\n",
    "# for a dense neural network layer\n",
    "\n",
    "def random_layer_params(m, n, key, scale=1e-2):\n",
    "  w_key, b_key = random.split(key)\n",
    "  return scale * random.normal(w_key, (n, m)), scale * random.normal(b_key, (n,))\n",
    "\n",
    "def init_mask(m,n):\n",
    "    return np.ones((n, m))\n",
    "\n",
    "def get_full_mask(params):\n",
    "    return [ np.array(p[0])*0. + 1 for p in params]\n",
    "\n",
    "# Initialize all layers for a fully-connected neural network with sizes \"sizes\"\n",
    "def init_network_params(sizes, key):\n",
    "  keys = random.split(key, len(sizes))\n",
    "  return ( [init_mask(m,n) for m,n in zip(sizes[:-1],sizes[1:])],  [random_layer_params(m, n, k) for m, n, k in zip(sizes[:-1], sizes[1:], keys)])"
   ]
  },
  {
   "cell_type": "markdown",
   "id": "ff11835d",
   "metadata": {},
   "source": [
    "# Predictor"
   ]
  },
  {
   "cell_type": "code",
   "execution_count": 3,
   "id": "294f2087",
   "metadata": {},
   "outputs": [],
   "source": [
    "from jax.scipy.special import logsumexp\n",
    "\n",
    "def relu(x):\n",
    "    return jnp.maximum(0, x)\n",
    "\n",
    "def predict(params, mask, image):\n",
    "    # per-example predictions\n",
    "    activations = image\n",
    "    for m,(w,b) in zip(mask[:-1],params[:-1]):\n",
    "        outputs = jnp.dot(m * w, activations) + b\n",
    "        activations = relu(outputs)\n",
    "\n",
    "    final_mask, (final_w, final_b) = mask[-1], params[-1]\n",
    "    logits = jnp.dot(final_mask * final_w, activations) + final_b\n",
    "    return logits - logsumexp(logits)"
   ]
  },
  {
   "cell_type": "code",
   "execution_count": 4,
   "id": "a943bc32",
   "metadata": {},
   "outputs": [],
   "source": [
    "# Make a batched version of the `predict` function\n",
    "batched_predict = vmap(predict, in_axes=(None,None, 0))"
   ]
  },
  {
   "cell_type": "markdown",
   "id": "4039c124",
   "metadata": {},
   "source": [
    "# Utilities"
   ]
  },
  {
   "cell_type": "code",
   "execution_count": 5,
   "id": "1930c08a",
   "metadata": {},
   "outputs": [],
   "source": [
    "def one_hot(x, k, dtype=jnp.float32):\n",
    "  \"\"\"Create a one-hot encoding of x of size k.\"\"\"\n",
    "  return jnp.array(x[:, None] == jnp.arange(k), dtype)\n",
    "  \n",
    "def accuracy(params, mask, images, targets):\n",
    "  target_class = jnp.argmax(targets, axis=1)\n",
    "  predicted_class = jnp.argmax(batched_predict(params,mask, images), axis=1)\n",
    "  return jnp.mean(predicted_class == target_class)\n",
    "\n",
    "def loss(params, mask, images, targets):\n",
    "  preds = batched_predict(params, mask, images)\n",
    "  return -jnp.mean(preds * targets)\n",
    "\n",
    "@jit\n",
    "def update(params, mask, x, y):\n",
    "  grads = grad(loss)(params,mask, x, y)\n",
    "  return [(w - step_size * dw, b - step_size * db)\n",
    "          for (w, b), (dw, db) in zip(params, grads)]"
   ]
  },
  {
   "cell_type": "markdown",
   "id": "5b9b203b",
   "metadata": {},
   "source": [
    "# Data and Co."
   ]
  },
  {
   "cell_type": "code",
   "execution_count": 6,
   "id": "bce8f004",
   "metadata": {},
   "outputs": [
    {
     "data": {
      "image/png": "[encoded data removed]",
      "text/plain": [
       "<Figure size 640x480 with 1 Axes>"
      ]
     },
     "metadata": {},
     "output_type": "display_data"
    }
   ],
   "source": [
    "from PIL import Image\n",
    "import matplotlib.pyplot as plt\n",
    "import tensorflow.keras.datasets as tfds\n",
    "import numpy as np\n",
    "onehot = lambda y : np.concatenate([\n",
    "        (y == cifra)[:,None] * 1.\n",
    "    for cifra in np.arange(10)\n",
    "], axis = 1)\n",
    "\n",
    "(x_train, y_train), (x_test, y_test) = tfds.mnist.load_data()\n",
    "assert x_train.shape == (60000, 28, 28)\n",
    "assert x_test.shape == (10000, 28, 28)\n",
    "assert y_train.shape == (60000,)\n",
    "assert y_test.shape == (10000,)\n",
    "\n",
    "x_train = np.array([ np.array(Image.fromarray(x).resize((14,14))) for x in x_train])\n",
    "x_test  = np.array([ np.array(Image.fromarray(x).resize((14,14))) for x in x_test])\n",
    "\n",
    "plt.imshow(x_train[0])\n",
    "\n",
    "x_train = x_train.reshape(-1,14*14)\n",
    "x_test  = x_test.reshape(-1,14*14)\n",
    "y_test  = onehot(y_test)\n",
    "y_train = onehot(y_train)\n",
    "\n"
   ]
  },
  {
   "cell_type": "code",
   "execution_count": 7,
   "id": "aa73492d",
   "metadata": {},
   "outputs": [
    {
     "data": {
      "text/plain": [
       "DeviceArray([[-2.2986622, -2.3003092, -2.291753 , -2.3153772, -2.3010228,\n",
       "              -2.3106387, -2.3008556, -2.309747 , -2.3073661, -2.2904146],\n",
       "             [-2.2967458, -2.2978039, -2.290876 , -2.317737 , -2.3022969,\n",
       "              -2.3089628, -2.301722 , -2.3104868, -2.3080108, -2.2915494],\n",
       "             [-2.296296 , -2.2996867, -2.2964408, -2.3144908, -2.3035498,\n",
       "              -2.3099043, -2.3052185, -2.307092 , -2.3107967, -2.2827616]],            dtype=float32)"
      ]
     },
     "execution_count": 7,
     "metadata": {},
     "output_type": "execute_result"
    }
   ],
   "source": [
    "layer_sizes = [14*14, 10, 10, 10]\n",
    "mask, params = init_network_params(layer_sizes, random.PRNGKey(0))\n",
    "batched_predict(params,mask,x_train[:3])"
   ]
  },
  {
   "cell_type": "markdown",
   "id": "896b10d9",
   "metadata": {},
   "source": [
    "# Training"
   ]
  },
  {
   "cell_type": "code",
   "execution_count": 8,
   "id": "8ec61fee",
   "metadata": {},
   "outputs": [],
   "source": [
    "layer_sizes = [14*14, 10, 10, 10]\n",
    "step_size = 0.01\n",
    "batch_epochs = 500\n",
    "num_epochs = batch_epochs * 10\n",
    "batch_size = 128\n",
    "n_targets = 10\n",
    "mask, params = init_network_params(layer_sizes, random.PRNGKey(0))"
   ]
  },
  {
   "cell_type": "code",
   "execution_count": 9,
   "id": "9de4b78d",
   "metadata": {},
   "outputs": [
    {
     "name": "stdout",
     "output_type": "stream",
     "text": [
      "Epoch 0 in 0.30 sec\n",
      "Training set accuracy 0.10300000011920929\n",
      "Test set accuracy 0.10599999874830246\n",
      "Epoch 500 in 0.00 sec\n",
      "Training set accuracy 0.1673833280801773\n",
      "Test set accuracy 0.1678999960422516\n",
      "Epoch 1000 in 0.00 sec\n",
      "Training set accuracy 0.5487499833106995\n",
      "Test set accuracy 0.5453999638557434\n",
      "Epoch 1500 in 0.00 sec\n",
      "Training set accuracy 0.7706500291824341\n",
      "Test set accuracy 0.779699981212616\n",
      "Epoch 2000 in 0.00 sec\n",
      "Training set accuracy 0.8059166669845581\n",
      "Test set accuracy 0.8149999976158142\n",
      "Epoch 2500 in 0.00 sec\n",
      "Training set accuracy 0.8244500160217285\n",
      "Test set accuracy 0.8319999575614929\n",
      "Epoch 3000 in 0.00 sec\n",
      "Training set accuracy 0.8372666835784912\n",
      "Test set accuracy 0.840399980545044\n",
      "Epoch 3500 in 0.00 sec\n",
      "Training set accuracy 0.8505666851997375\n",
      "Test set accuracy 0.8518999814987183\n",
      "Epoch 4000 in 0.00 sec\n",
      "Training set accuracy 0.8676166534423828\n",
      "Test set accuracy 0.8648999929428101\n",
      "Epoch 4500 in 0.00 sec\n",
      "Training set accuracy 0.8806000351905823\n",
      "Test set accuracy 0.8788999915122986\n"
     ]
    }
   ],
   "source": [
    "import time\n",
    "mask, params = init_network_params(layer_sizes, random.PRNGKey(0))\n",
    "for epoch in range(num_epochs):\n",
    "    start_time = time.time()\n",
    "    for i in range(10):\n",
    "        batch = np.random.choice(len(x_train), size = 500)\n",
    "        x,y = x_train[batch],y_train[batch]\n",
    "\n",
    "    params = update(params, mask, x, y)\n",
    "    epoch_time = time.time() - start_time\n",
    "\n",
    "    train_acc = accuracy(params, mask, x_train, y_train)\n",
    "    test_acc = accuracy(params, mask,  x_test, y_test)\n",
    "    if epoch % batch_epochs == 0:\n",
    "        print(\"Epoch {} in {:0.2f} sec\".format(epoch, epoch_time))\n",
    "        print(\"Training set accuracy {}\".format(train_acc))\n",
    "        print(\"Test set accuracy {}\".format(test_acc))"
   ]
  },
  {
   "cell_type": "markdown",
   "id": "1e83b8d0",
   "metadata": {},
   "source": [
    "# Sparsification"
   ]
  },
  {
   "cell_type": "markdown",
   "id": "6fc9dda5",
   "metadata": {},
   "source": [
    "## Definiamo la distanza $d$ su $\\mathcal P$\n",
    "<center> $d(\\theta,\\theta') = || f_{\\theta} - f_{\\theta'} ||_{L^2(\\Omega)}$ </center>"
   ]
  },
  {
   "cell_type": "code",
   "execution_count": 11,
   "id": "3cca0bf6",
   "metadata": {},
   "outputs": [
    {
     "data": {
      "text/plain": [
       "DeviceArray(0.7304523, dtype=float32)"
      ]
     },
     "execution_count": 11,
     "metadata": {},
     "output_type": "execute_result"
    }
   ],
   "source": [
    "import jax\n",
    "full_mask = get_full_mask(params)\n",
    "\n",
    "def d(params_1, mask_1, params_2, mask_2 ):\n",
    "    omega_sample = np.random.choice(255, size = (10000,14*14))\n",
    "    return jnp.sum( (batched_predict(params_1, mask_1, omega_sample) - batched_predict(params_2, mask_2, omega_sample) )**2 )\n",
    "d = jax.jit(d)\n",
    "d_grad = jax.grad(d)\n",
    "d_grad = jax.jit(d_grad)\n",
    "\n",
    "params_perturbed = [ (p[0] + np.random.normal(size = p[0].shape) * .00001 ,p[1]) for p in params]\n",
    "\n",
    "d(params,full_mask,params_perturbed,full_mask)"
   ]
  },
  {
   "cell_type": "markdown",
   "id": "496a163b",
   "metadata": {},
   "source": [
    "# LOOP di calcolo"
   ]
  },
  {
   "cell_type": "code",
   "execution_count": 44,
   "id": "15f65c33",
   "metadata": {},
   "outputs": [],
   "source": [
    "import os\n",
    "\n",
    "def delete_previous_sparsification():\n",
    "    folder_name = \"sparsification\"\n",
    "    for root, dirs, files in os.walk(folder_name, topdown=False):\n",
    "        for name in files:\n",
    "            os.remove(os.path.join(root, name))\n",
    "        for name in dirs:\n",
    "            os.rmdir(os.path.join(root, name))\n",
    "\n",
    "def save_params(params,identificativo):\n",
    "    folder_name = \"sparsification/%d\" % identificativo\n",
    "    os.mkdir(folder_name)\n",
    "    for i,p in enumerate(params):\n",
    "        np.savetxt(folder_name + (\"/param_%d_weights.csv\" % (i)), np.array(p[0]), delimiter=',', newline='\\n' )\n",
    "        np.savetxt(folder_name + (\"/param_%d_bias.csv\" % (i)), np.array(p[1]), delimiter=',', newline='\\n' )\n",
    "        \n",
    "def save_details(params,mask,cmp_params,identificativo):\n",
    "    output = np.zeros(3)\n",
    "    output[0] = accuracy(params,mask,x_test,y_test)\n",
    "    output[1] = accuracy(params,mask,x_train,y_train)\n",
    "    output[2] = d(cmp_params,full_mask,new_params,mask)\n",
    "    folder_name = \"sparsification/%d\" % identificativo\n",
    "    np.savetxt(folder_name + \"/details.csv\", output)"
   ]
  },
  {
   "cell_type": "code",
   "execution_count": null,
   "id": "e43907aa",
   "metadata": {
    "scrolled": false
   },
   "outputs": [
    {
     "name": "stdout",
     "output_type": "stream",
     "text": [
      "0.89 2159\n",
      "0.89 2158\n",
      "0.89 2157\n",
      "0.89 2156\n",
      "0.89 2155\n",
      "0.89 2154\n",
      "0.89 2153\n",
      "0.89 2152\n",
      "0.89 2151\n",
      "0.89 2150\n",
      "0.89 2149\n",
      "0.89 2148\n",
      "0.89 2147\n",
      "0.89 2146\n",
      "0.89 2145\n",
      "0.89 2144\n",
      "0.89 2143\n",
      "0.89 2142\n",
      "0.89 2141\n",
      "0.89 2140\n",
      "0.89 2139\n",
      "0.89 2138\n",
      "0.89 2137\n",
      "0.89 2136\n",
      "0.89 2135\n",
      "0.89 2134\n",
      "0.89 2133\n",
      "0.89 2132\n",
      "0.89 2131\n",
      "0.89 2130\n",
      "0.89 2129\n",
      "0.89 2128\n",
      "0.89 2127\n",
      "0.89 2126\n",
      "0.89 2125\n",
      "0.89 2124\n",
      "0.89 2123\n",
      "0.89 2122\n",
      "0.89 2121\n",
      "0.89 2120\n",
      "0.89 2119\n",
      "0.89 2118\n",
      "0.89 2117\n",
      "0.89 2116\n",
      "0.89 2115\n",
      "0.89 2114\n",
      "0.89 2113\n"
     ]
    }
   ],
   "source": [
    "# trovo il peso piú piccolo\n",
    "import numpy as np\n",
    "\n",
    "# inizializzo la maschera piena\n",
    "full_mask = get_full_mask(params)\n",
    "# inizializzo la maschera da svuotare\n",
    "mask = get_full_mask(params)\n",
    "\n",
    "def clone_params(params):\n",
    "    return [  [ np.array(p[0]).copy(),np.array(p[1]).copy()] for p in params]\n",
    "\n",
    "def adjust(params, mask, cmp_params, full_mask):\n",
    "    new_params = clone_params(params)\n",
    "    alfa       = 1e-11\n",
    "    while alfa > 1e-14 :\n",
    "        gradiente = d_grad(params,mask,cmp_params,full_mask)\n",
    "        new_new_params = clone_params(new_params)\n",
    "        for n,g in zip(new_new_params,gradiente):\n",
    "            n[0] = n[0] - alfa * g[0]\n",
    "            n[1] = n[1] - alfa * g[1]\n",
    "            \n",
    "        if(d(new_new_params,mask,cmp_params,full_mask) < d(new_params,mask,cmp_params,full_mask)):\n",
    "            new_params = new_new_params\n",
    "            alfa *= 1.001\n",
    "        else:\n",
    "            alfa *= 0.5\n",
    "    return new_params\n",
    "\n",
    "def prune(params, mask, cmp_params, doAdjust = True):\n",
    "    minimo = 1e16\n",
    "    minimo_idx = 0\n",
    "    minimo_i   = 0\n",
    "    minimo_j   = 0\n",
    "    \n",
    "    for idx,p in enumerate(params):\n",
    "        #print(idx)\n",
    "        for i,row in enumerate(p[0]):\n",
    "            #print(\"\\t%d\" % i , minimo)\n",
    "            for j,el in enumerate(row):\n",
    "                if params[idx][0][i,j] != 0.:\n",
    "                    new_params = clone_params(params)\n",
    "                    new_params[idx][0][i,j] = 0.\n",
    "                    distanza =  d(cmp_params,full_mask,new_params,mask)\n",
    "                    if(distanza < minimo):\n",
    "                        minimo = distanza\n",
    "                        minimo_idx = idx\n",
    "                        minimo_i   = i\n",
    "                        minimo_j   = j\n",
    "                    if minimo == 0:         # if the minimum becomes zero then the current weight doees not affect distance in P space\n",
    "                        # non ha bisogno di aggiustamento\n",
    "                        mask[minimo_idx][minimo_i,minimo_j]          = 0. # setto la maschera  a 0\n",
    "                        return new_params\n",
    "    new_params = clone_params(params)\n",
    "    new_params[minimo_idx][0][minimo_i,minimo_j] = 0.\n",
    "    \n",
    "    mask[minimo_idx][minimo_i,minimo_j]          = 0. # setto la maschera  a 0\n",
    "    # ha bisogno di aggiustamento\n",
    "    if doAdjust:\n",
    "        new_params = adjust(new_params, mask, cmp_params,full_mask)\n",
    "    \n",
    "    return new_params\n",
    "\n",
    "delete_previous_sparsification()\n",
    "new_params = clone_params(params)\n",
    "for i in range(500):\n",
    "    new_params = prune(new_params, mask, params, True)\n",
    "    NZ = np.sum([ (p[0] != 0).sum() for p in new_params]) # non zero entries\n",
    "    save_params(new_params, NZ)\n",
    "    save_details(new_params,mask,params, NZ)\n",
    "    print(accuracy(new_params,mask,  x_test, y_test) , NZ)"
   ]
  },
  {
   "cell_type": "code",
   "execution_count": null,
   "id": "d3bc1d7e",
   "metadata": {
    "scrolled": false
   },
   "outputs": [],
   "source": [
    "import matplotlib.pyplot as plt\n",
    "\n",
    "for n,p in zip(new_params,params):\n",
    "    axs = plt.figure(figsize=(3,1),dpi=600).subplots(1,2)\n",
    "    axs = axs.flatten()\n",
    "    axs[0].set_title(\"sparsified %.2f\" % ( (n[0] > 0.).sum() / (p[0] > 0).sum() ) )\n",
    "    axs[0].imshow(n[0] != 0., vmin = 0.,vmax = 1.,aspect='auto') \n",
    "    axs[1].set_title(\"original\")\n",
    "    axs[1].imshow(p[0] != 0., vmin = 0.,vmax = 1.,aspect='auto')"
   ]
  },
  {
   "cell_type": "markdown",
   "id": "24c1a029",
   "metadata": {},
   "source": [
    "#  Comparing prediction"
   ]
  },
  {
   "cell_type": "code",
   "execution_count": 194,
   "id": "edc4cad5",
   "metadata": {},
   "outputs": [
    {
     "data": {
      "text/plain": [
       "<function matplotlib.pyplot.show(close=None, block=None)>"
      ]
     },
     "execution_count": 194,
     "metadata": {},
     "output_type": "execute_result"
    },
    {
     "data": {
      "image/png": "[encoded data removed]",
      "text/plain": [
       "<Figure size 640x480 with 1 Axes>"
      ]
     },
     "metadata": {},
     "output_type": "display_data"
    }
   ],
   "source": [
    "n = 1300\n",
    "sample = x_train[n]\n",
    "y_hat_full = predict(params, full_mask, sample).argmax()\n",
    "y_hat_red  = predict(new_params, mask, sample).argmax()\n",
    "plt.imshow(sample.reshape(14,14))\n",
    "plt.suptitle(\"full model = %d\\nreduced model = %d\" % (y_hat_full,y_hat_red) )\n",
    "plt.show"
   ]
  },
  {
   "cell_type": "markdown",
   "id": "5e9ad8e2",
   "metadata": {},
   "source": [
    "### Weight distribution"
   ]
  },
  {
   "cell_type": "code",
   "execution_count": 192,
   "id": "b97b1951",
   "metadata": {},
   "outputs": [
    {
     "data": {
      "image/png": "[encoded data removed]",
      "text/plain": [
       "<Figure size 500x100 with 2 Axes>"
      ]
     },
     "metadata": {},
     "output_type": "display_data"
    },
    {
     "data": {
      "image/png": "[encoded data removed]",
      "text/plain": [
       "<Figure size 500x100 with 2 Axes>"
      ]
     },
     "metadata": {},
     "output_type": "display_data"
    },
    {
     "data": {
      "image/png": "[encoded data removed]",
      "text/plain": [
       "<Figure size 500x100 with 2 Axes>"
      ]
     },
     "metadata": {},
     "output_type": "display_data"
    }
   ],
   "source": [
    "import matplotlib.pyplot as plt\n",
    "\n",
    "for n,p in zip(new_params,params):\n",
    "    axs = plt.figure(figsize=(5,1)).subplots(1,2)\n",
    "    axs = axs.flatten()\n",
    "    axs[0].set_title(\"sparsified\")\n",
    "    axs[0].hist(n[0].flatten(), bins = 'auto')\n",
    "    \n",
    "    axs[1].set_title(\"original\")\n",
    "    axs[1].hist(p[0].flatten(), bins = 'auto')"
   ]
  },
  {
   "cell_type": "code",
   "execution_count": null,
   "id": "774a05ba",
   "metadata": {},
   "outputs": [],
   "source": []
  }
 ],
 "metadata": {
  "kernelspec": {
   "display_name": "Python 3 (ipykernel)",
   "language": "python",
   "name": "python3"
  },
  "language_info": {
   "codemirror_mode": {
    "name": "ipython",
    "version": 3
   },
   "file_extension": ".py",
   "mimetype": "text/x-python",
   "name": "python",
   "nbconvert_exporter": "python",
   "pygments_lexer": "ipython3",
   "version": "3.9.7"
  }
 },
 "nbformat": 4,
 "nbformat_minor": 5
}
